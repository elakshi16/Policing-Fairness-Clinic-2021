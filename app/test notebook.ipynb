{
 "cells": [
  {
   "cell_type": "code",
   "execution_count": 1,
   "id": "4aee6ac4",
   "metadata": {},
   "outputs": [],
   "source": [
    "import random\n",
    "import graph\n",
    "\n",
    "g = graph.Graph()\n",
    "g.loadGraph(\"./out/saved_graph_races.pkl\")\n",
    "\n",
    "# g.populateNodes()\n",
    "\n",
    "# g.saveGraph(\"./out/saved_graph_races.pkl\")"
   ]
  },
  {
   "cell_type": "code",
   "execution_count": 12,
   "id": "171bb91e",
   "metadata": {},
   "outputs": [],
   "source": [
    "tract_nodes = []\n",
    "for nid, node in g.nodes.items():\n",
    "    if(node.population == 0):\n",
    "        node.population =  {\"POP\": 0,\n",
    "            \"LATPOP_D\": 0,\n",
    "            \"WHIPOP_D\": 0,\n",
    "            \"BLAPOP_D\": 0,\n",
    "            \"AMIPOP_D\": 0,\n",
    "            \"ASIPOP_D\": 0,\n",
    "            \"HPIPOP_D\": 0,\n",
    "            \"OTHPOP_D\": 0,\n",
    "            \"MMRPOP_D\": 0,\n",
    "          }\n",
    "    "
   ]
  },
  {
   "cell_type": "code",
   "execution_count": 3,
   "id": "1739b7fc",
   "metadata": {},
   "outputs": [
    {
     "name": "stdout",
     "output_type": "stream",
     "text": [
      "id: (283, 268) , @(34.06830177678373,-118.21232776360196), report_cnt = 0\n",
      "id: (283, 268) , @(34.06830177678373,-118.21232776360196), report_cnt = 0\n",
      "{'POP': 194, 'LATPOP_D': 119, 'WHIPOP_D': 2, 'BLAPOP_D': 0, 'AMIPOP_D': 0, 'ASIPOP_D': 69, 'HPIPOP_D': 0, 'OTHPOP_D': 0, 'MMRPOP_D': 0}\n",
      "{'POP': 194, 'LATPOP_D': 119, 'WHIPOP_D': 2, 'BLAPOP_D': 0, 'AMIPOP_D': 0, 'ASIPOP_D': 69, 'HPIPOP_D': 0, 'OTHPOP_D': 0, 'MMRPOP_D': 0}\n",
      "True\n"
     ]
    }
   ],
   "source": []
  },
  {
   "cell_type": "code",
   "execution_count": 19,
   "id": "ac601ea0",
   "metadata": {},
   "outputs": [
    {
     "name": "stdout",
     "output_type": "stream",
     "text": [
      "Race: MMRPOP_D, precinct: 21\r"
     ]
    }
   ],
   "source": [
    "import patrols\n",
    "import plotter\n",
    "\n",
    "\n",
    "sim_by_race = {}\n",
    "races = [\"POP\", \"LATPOP_D\", \"WHIPOP_D\", \"BLAPOP_D\", \"AMIPOP_D\", \"ASIPOP_D\", \"HPIPOP_D\", \"OTHPOP_D\", \"MMRPOP_D\"]\n",
    "\n",
    "\n",
    "for race_id in races:\n",
    "    min_pop = min([node.population[race_id] for nid, node in g.nodes.items()])\n",
    "    max_pop = max([node.population[race_id] for nid, node in g.nodes.items()])\n",
    "    \n",
    "    # p = (cur - min) / (max - min)\n",
    "    \n",
    "    arrest_rate = {node_id:((n.population[race_id] - min_pop) / (max_pop - min_pop)) for node_id, n in g.nodes.items()}\n",
    "    \n",
    "    all_nodes = {}\n",
    "\n",
    "    for pID in range(1,22):\n",
    "        while(True):\n",
    "            start = random.choice(list(g.precincts[pID].values()))\n",
    "            try:\n",
    "                path, arrests = patrols.random_walk_precinct(50000, g, start, arrest_rate)\n",
    "            except:\n",
    "                continue\n",
    "            else:\n",
    "                all_nodes.update(arrests)\n",
    "                print(f\"Race: {race_id}, precinct: {pID}\", end=\"\\r\")\n",
    "                break\n",
    "            \n",
    "    sim_by_race[race_id] = all_nodes"
   ]
  },
  {
   "cell_type": "code",
   "execution_count": 21,
   "id": "071663c9",
   "metadata": {},
   "outputs": [
    {
     "name": "stdout",
     "output_type": "stream",
     "text": [
      "HPIPOP_D: mean = 0.04773585919174918  --  stddev = 1.2620621016609899\n"
     ]
    }
   ],
   "source": [
    "import stats\n",
    "\n",
    "for rID, sim in sim_by_race.items():\n",
    "    if rID == \"HPIPOP_D\":\n",
    "        print(f\"{rID}: mean = {stats.sim_mean(sim)}  --  stddev = {stats.sim_stddev(sim)}\")\n",
    "        plotter.basic_plot(sim, f\"./out/graphics/{rID}.png\")"
   ]
  },
  {
   "cell_type": "code",
   "execution_count": 18,
   "id": "176966c9",
   "metadata": {},
   "outputs": [],
   "source": [
    "\n",
    "real_arrest_counts = {ids:len(nodes.pd_reports) for ids, nodes in g.nodes.items()}\n",
    "plotter.basic_plot(real_arrest_counts, \"./out/graphics/arrest_count\")"
   ]
  }
 ],
 "metadata": {
  "kernelspec": {
   "display_name": "Python 3 (ipykernel)",
   "language": "python",
   "name": "python3"
  },
  "language_info": {
   "codemirror_mode": {
    "name": "ipython",
    "version": 3
   },
   "file_extension": ".py",
   "mimetype": "text/x-python",
   "name": "python",
   "nbconvert_exporter": "python",
   "pygments_lexer": "ipython3",
   "version": "3.8.13"
  }
 },
 "nbformat": 4,
 "nbformat_minor": 5
}
