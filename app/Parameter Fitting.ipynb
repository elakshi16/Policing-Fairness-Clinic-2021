{
 "cells": [
  {
   "cell_type": "code",
   "execution_count": 1,
   "id": "34a20af1",
   "metadata": {},
   "outputs": [],
   "source": [
    "import graph\n",
    "import patrols\n",
    "import stats\n",
    "\n",
    "import pickle\n",
    "import numpy as np\n",
    "import os\n",
    "import random\n",
    "\n",
    "g = graph.Graph()\n",
    "g.loadGraph(\"./out/saved_graph_races.pkl\")"
   ]
  },
  {
   "cell_type": "code",
   "execution_count": 3,
   "id": "8c39397a",
   "metadata": {},
   "outputs": [
    {
     "name": "stdout",
     "output_type": "stream",
     "text": [
      "Prob: 1.0, Length: 55000, sim#: 9..\r"
     ]
    }
   ],
   "source": [
    "fitting_results = {}\n",
    "\n",
    "for arrest_prob in [p / 20 for p in range(1,21)]:\n",
    "    # Vary probability from 0-1 with 0.05 increments\n",
    "    uniform_arrest_rate = {node.ID : arrest_prob for node in g.nodes.values()}\n",
    "    \n",
    "    for walk_length in [l * 5000 for l in range(2,12)]:\n",
    "        #Vary walk length from 1,000 to 55,000 steps of 5,000\n",
    "        \n",
    "        sim_means = []\n",
    "        sim_std_devs = []\n",
    "        \n",
    "        for t in range(10):\n",
    "            print(f\"Prob: {arrest_prob}, Length: {walk_length}, sim#: {t}.\", end=\"\\r\")\n",
    "            # run 10 trials\n",
    "            all_nodes = {}\n",
    "            \n",
    "            for pID in range(1,22):\n",
    "                while(True):\n",
    "                    start = random.choice(list(g.precincts[pID].values()))\n",
    "                    try:\n",
    "                        path, arrests = patrols.random_walk_precinct(walk_length, g, start, uniform_arrest_rate)\n",
    "                        all_nodes.update(arrests)\n",
    "                    except:\n",
    "                        continue\n",
    "                    else:break\n",
    "\n",
    "            sim_means.append(stats.sim_mean(all_nodes))\n",
    "            sim_std_devs.append(stats.sim_stddev(all_nodes))\n",
    "        \n",
    "        mean_mean = sum(sim_means) / len(sim_means)\n",
    "        mean_stddev = sum(sim_std_devs) / len(sim_std_devs)\n",
    "        \n",
    "        fitting_results[(arrest_prob, walk_length)] = (mean_mean, mean_stddev)\n",
    "\n",
    "pout = open(\"./out/fitting_results.pkl\", 'wb+')\n",
    "pickle.dump(fitting_results, pout)\n",
    "pout.close()"
   ]
  },
  {
   "cell_type": "code",
   "execution_count": 27,
   "id": "2536a740",
   "metadata": {},
   "outputs": [
    {
     "name": "stdout",
     "output_type": "stream",
     "text": [
      "[0.05, 0.1, 0.15, 0.2, 0.25, 0.3, 0.35, 0.4, 0.45, 0.5, 0.55, 0.6, 0.65, 0.7, 0.75, 0.8, 0.85, 0.9, 0.95, 1.0]\n",
      "[10000, 15000, 20000, 25000, 30000, 35000, 40000, 45000, 50000, 55000]\n",
      "(10, 20)\n",
      "[[ 0.18816272  0.37749288  0.56308081  0.75136887  0.94004369  1.12827445\n",
      "   1.31665025  1.50442801  1.69264803  1.88163262  2.06869595  2.25617648\n",
      "   2.44470626  2.6311823   2.81971566  3.00812548  3.19612706  3.38331931\n",
      "   3.57186879  3.76013895]\n",
      " [ 0.28235421  0.56358395  0.84618167  1.12777489  1.41103511  1.6910455\n",
      "   1.97205142  2.25862773  2.53999893  2.82024387  3.10439041  3.38359326\n",
      "   3.66568963  3.94654515  4.23007574  4.51514441  4.7956078   5.07640423\n",
      "   5.3584433   5.64020842]\n",
      " [ 0.37632187  0.75114147  1.128133    1.5024799   1.87904886  2.25654175\n",
      "   2.62894949  3.00774589  3.38551272  3.76173432  4.13529517  4.5108095\n",
      "   4.88838833  5.26334044  5.64153521  6.01757417  6.39081452  6.76943186\n",
      "   7.14401332  7.52027789]\n",
      " [ 0.47126896  0.94155133  1.41055525  1.88004261  2.35298573  2.82019195\n",
      "   3.29051371  3.76423929  4.22744543  4.7008147   5.17141757  5.6408548\n",
      "   6.11153825  6.58011245  7.0505685   7.52021522  7.99003742  8.45869219\n",
      "   8.93197371  9.40034737]\n",
      " [ 0.56376121  1.12794141  1.69307597  2.2578184   2.82301563  3.38513313\n",
      "   3.95180039  4.51446042  5.07414815  5.6430142   6.20150943  6.76749808\n",
      "   7.33286182  7.89630074  8.457326    9.02599867  9.59038121 10.15136529\n",
      "  10.71659833 11.28041684]\n",
      " [ 0.65707712  1.3194811   1.97381153  2.63138284  3.2870884   3.9464592\n",
      "   4.60612903  5.26471915  5.92582678  6.58259593  7.23785923  7.89480922\n",
      "   8.55633404  9.21586241  9.87017852 10.52827983 11.18343211 11.84264714\n",
      "  12.50162939 13.16048631]\n",
      " [ 0.75210299  1.50261061  2.25531702  3.00677004  3.76065283  4.51221687\n",
      "   5.26515426  6.01443177  6.76755358  7.51641211  8.27125105  9.02664864\n",
      "   9.777962   10.52696557 11.28212143 12.03736325 12.78279826 13.53573385\n",
      "  14.28802843 15.04055578]\n",
      " [ 0.84636609  1.69396766  2.54107862  3.38639904  4.22940966  5.07763792\n",
      "   5.92120897  6.77018568  7.61298143  8.46107182  9.30427402 10.15159269\n",
      "  11.00047807 11.84603305 12.69243496 13.53696754 14.3824491  15.22833175\n",
      "  16.07520099 16.92062526]\n",
      " [ 0.93894251  1.87905603  2.81903167  3.75803327  4.69769915  5.6363498\n",
      "   6.57808197  7.52526276  8.45870293  9.39807517 10.34296585 11.27998353\n",
      "  12.21728948 13.1625705  14.09899192 15.04091389 15.98204444 16.92071658\n",
      "  17.86074415 18.80069473]\n",
      " [ 1.03165142  2.07263156  3.10214328  4.13634443  5.17145875  6.2003975\n",
      "   7.24025139  8.27331913  9.30739852 10.34409211 11.38186718 12.41033143\n",
      "  13.44095508 14.47126538 15.51094021 16.54146001 17.58244194 18.61530377\n",
      "  19.65003313 20.6807642 ]]\n"
     ]
    }
   ],
   "source": [
    "x = set()\n",
    "y = set()\n",
    "for key in fitting_results.keys():\n",
    "    x.add(key[0])\n",
    "    y.add(key[1])\n",
    "\n",
    "\n",
    "\n",
    "x = list(x)\n",
    "y = list(y)\n",
    "\n",
    "x.sort()\n",
    "y.sort()\n",
    "\n",
    "print(x)\n",
    "print(y)\n",
    "\n",
    "Z = np.zeros((len(y),len(x)))\n",
    "\n",
    "print(Z.shape)\n",
    "\n",
    "for j in range(len(y)):\n",
    "    for i in range(len(x)):\n",
    "        (Z[j,i], _) = fitting_results[(x[i], y[j])]\n",
    "\n",
    "print(Z)"
   ]
  },
  {
   "cell_type": "code",
   "execution_count": 28,
   "id": "15ff41ce",
   "metadata": {},
   "outputs": [],
   "source": [
    "import matplotlib.pyplot as plt\n",
    "import numpy as np\n",
    "from matplotlib import cm\n",
    "\n"
   ]
  },
  {
   "cell_type": "code",
   "execution_count": null,
   "id": "a3f53fb9",
   "metadata": {},
   "outputs": [],
   "source": []
  },
  {
   "cell_type": "code",
   "execution_count": 46,
   "id": "8c249380",
   "metadata": {},
   "outputs": [
    {
     "data": {
      "image/png": "[encoded data removed]",
      "text/plain": [
       "<Figure size 432x288 with 2 Axes>"
      ]
     },
     "metadata": {
      "needs_background": "light"
     },
     "output_type": "display_data"
    }
   ],
   "source": [
    "## Plot and save both outputs\n",
    "\n",
    "fig, ax = plt.subplots()\n",
    "\n",
    "# ax.scatter(x, y, s=arrCnt, alpha=0.2)\n",
    "CS = ax.contourf(x, y, Z, levels = 10, cmap='viridis') # color instead of size \n",
    "ax.set_xlabel('Arrest Probability ')\n",
    "ax.set_ylabel('Walk Length (steps)')\n",
    "\n",
    "ax.set_xticks(np.arange(0.05,1.0,0.1))\n",
    "ax.set_title(\"Arrest count\")\n",
    "\n",
    "cbar = fig.colorbar(CS)\n",
    "cbar.ax.set_ylabel(\"Mean Arrest Count\")\n",
    "\n",
    "\n",
    "plt.savefig(\"./out/parameter_fitting_plot\")"
   ]
  }
 ],
 "metadata": {
  "kernelspec": {
   "display_name": "Python 3 (ipykernel)",
   "language": "python",
   "name": "python3"
  },
  "language_info": {
   "codemirror_mode": {
    "name": "ipython",
    "version": 3
   },
   "file_extension": ".py",
   "mimetype": "text/x-python",
   "name": "python",
   "nbconvert_exporter": "python",
   "pygments_lexer": "ipython3",
   "version": "3.8.13"
  }
 },
 "nbformat": 4,
 "nbformat_minor": 5
}
