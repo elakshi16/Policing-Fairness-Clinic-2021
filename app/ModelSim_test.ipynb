{
 "cells": [
  {
   "cell_type": "code",
   "execution_count": 1,
   "id": "b1f80d0a",
   "metadata": {},
   "outputs": [],
   "source": [
    "import graph\n",
    "import patrols\n",
    "import stats\n",
    "\n",
    "import numpy as np\n",
    "import os\n",
    "import random\n",
    "\n",
    "\n",
    "\n",
    "# g = graph.Graph()\n",
    "# g.createNodes()\n",
    "# g.populateNodes()\n",
    "# g.saveGraph(\"./out/saved_graph.pkl\")\n",
    "\n",
    "# print(random.choice(list(g.nodes.items())))\n",
    "\n"
   ]
  },
  {
   "cell_type": "code",
   "execution_count": 2,
   "id": "73ca1a30",
   "metadata": {},
   "outputs": [
    {
     "name": "stdout",
     "output_type": "stream",
     "text": [
      "((70, 283), id: (70, 283) , @(34.08853651291689,-118.5543841528534), report_cnt = 0)\n"
     ]
    }
   ],
   "source": [
    "ig = graph.Graph()\n",
    "ig.loadGraph(\"./out/saved_graph.pkl\")\n",
    "\n",
    "print(random.choice(list(ig.nodes.items())))"
   ]
  },
  {
   "cell_type": "code",
   "execution_count": 8,
   "id": "026fdb91",
   "metadata": {},
   "outputs": [],
   "source": [
    "import basic_plot\n",
    "\n",
    "uniform_arrest_rate = {node.ID : 0.5 for node in ig.nodes.values()}\n",
    "\n",
    "precincts = []\n",
    "for p in range(1,22):\n",
    "    if not os.path.exists('./out/sims/' + str(p)):\n",
    "        os.makedirs('./out/sims/' + str(p))\n",
    "    start = random.choice(list(ig.precincts[p].values()))\n",
    "    arrest_list = []\n",
    "    for p_len in [10000, 50000, 100000]:\n",
    "        path, arrests = patrols.random_walk_precinct(p_len, ig, start, uniform_arrest_rate)\n",
    "        arrest_list.append(arrests)\n",
    "        basic_plot.basic_plot(arrests, f\"./out/sims/{p}/{p_len}.png\")\n",
    "    \n",
    "    precincts.append(arrest_list)\n",
    "\n"
   ]
  },
  {
   "cell_type": "code",
   "execution_count": 22,
   "id": "28e7383d",
   "metadata": {},
   "outputs": [
    {
     "name": "stdout",
     "output_type": "stream",
     "text": [
      "precinct1trial0 : 0.5821726768546754j\n",
      "precinct1trial1 : (0.8481003603095202+0j)\n",
      "precinct1trial2 : (0.4436782547080569+0j)\n",
      "precinct2trial0 : (1.5039462127678624+0j)\n",
      "precinct2trial1 : (0.8315267040748155+0j)\n",
      "precinct2trial2 : (0.9983177640928395+0j)\n",
      "precinct3trial0 : (1.5250275596327838+0j)\n",
      "precinct3trial1 : (1.0006402342083591+0j)\n",
      "precinct3trial2 : (0.4757620169767698+0j)\n",
      "precinct4trial0 : 0.7272891012042024j\n",
      "precinct4trial1 : (0.6572782296773223+0j)\n",
      "precinct4trial2 : (0.24865369744343713+0j)\n",
      "precinct5trial0 : 0.8022167343326853j\n",
      "precinct5trial1 : (0.49200361150699523+0j)\n",
      "precinct5trial2 : (0.9048940063582537+0j)\n",
      "precinct6trial0 : (0.48174212157347546+0j)\n",
      "precinct6trial1 : (0.6053223061639333+0j)\n",
      "precinct6trial2 : (0.9482854438505676+0j)\n",
      "precinct7trial0 : 0.6489053808512589j\n",
      "precinct7trial1 : (0.4221870023852007+0j)\n",
      "precinct7trial2 : (0.7021094974994094+0j)\n",
      "precinct8trial0 : 0.8607700381333039j\n",
      "precinct8trial1 : (0.6388111029817344+0j)\n",
      "precinct8trial2 : (0.7988574979980649+0j)\n",
      "precinct9trial0 : (0.48910969712318697+0j)\n",
      "precinct9trial1 : (0.29464677201224304+0j)\n",
      "precinct9trial2 : (0.44215200133320465+0j)\n",
      "precinct10trial0 : (1.4745601803678816+0j)\n",
      "precinct10trial1 : (0.7850099118251925+0j)\n",
      "precinct10trial2 : (0.7174748554717463+0j)\n",
      "precinct11trial0 : 0.4731515478562063j\n",
      "precinct11trial1 : (0.8185151169646594+0j)\n",
      "precinct11trial2 : (0.5306865014453275+0j)\n",
      "precinct12trial0 : (0.9244784191917855+0j)\n",
      "precinct12trial1 : (0.5167036117861568+0j)\n",
      "precinct12trial2 : (0.9580456673822441+0j)\n",
      "precinct13trial0 : (0.8874526772370795+0j)\n",
      "precinct13trial1 : (0.4489872997933489+0j)\n",
      "precinct13trial2 : (1.0270897209093701+0j)\n",
      "precinct14trial0 : (0.854819972500442+0j)\n",
      "precinct14trial1 : (0.20809074735308347+0j)\n",
      "precinct14trial2 : (0.8736094692344686+0j)\n",
      "precinct15trial0 : (0.8045278597654962+0j)\n",
      "precinct15trial1 : (0.7193966616563104+0j)\n",
      "precinct15trial2 : (0.9653898485105865+0j)\n",
      "precinct16trial0 : (0.813433469197434+0j)\n",
      "precinct16trial1 : (0.4187247263725548+0j)\n",
      "precinct16trial2 : (0.15135220179034112+0j)\n",
      "precinct17trial0 : 0.6880424955948551j\n",
      "precinct17trial1 : (0.6243095885552247+0j)\n",
      "precinct17trial2 : (0.8347985334810877+0j)\n",
      "precinct18trial0 : (1.0234276052586317+0j)\n",
      "precinct18trial1 : (0.8678697443468959+0j)\n",
      "precinct18trial2 : (0.8192565772411576+0j)\n",
      "precinct19trial0 : (1.057726113125104+0j)\n",
      "precinct19trial1 : (0.9367669018282817+0j)\n",
      "precinct19trial2 : 0.2862728032204947j\n",
      "precinct20trial0 : 0.8451315352227469j\n",
      "precinct20trial1 : (0.7880150645358779+0j)\n",
      "precinct20trial2 : (0.5176975494322645+0j)\n",
      "precinct21trial0 : (0.8511384974067172+0j)\n",
      "precinct21trial1 : (0.781058252032197+0j)\n",
      "precinct21trial2 : (0.5692891368339622+0j)\n"
     ]
    }
   ],
   "source": [
    "for i in range(1,22):\n",
    "    for j in range(3):\n",
    "        print(\"precinct\" + str(i) + \"trial\" + str(j) + \" : \"+ str(stats.sim_stddev(precincts[i-1][j])))"
   ]
  },
  {
   "cell_type": "code",
   "execution_count": null,
   "id": "b53a0066",
   "metadata": {},
   "outputs": [],
   "source": []
  }
 ],
 "metadata": {
  "kernelspec": {
   "display_name": "Python 3 (ipykernel)",
   "language": "python",
   "name": "python3"
  },
  "language_info": {
   "codemirror_mode": {
    "name": "ipython",
    "version": 3
   },
   "file_extension": ".py",
   "mimetype": "text/x-python",
   "name": "python",
   "nbconvert_exporter": "python",
   "pygments_lexer": "ipython3",
   "version": "3.8.13"
  }
 },
 "nbformat": 4,
 "nbformat_minor": 5
}
