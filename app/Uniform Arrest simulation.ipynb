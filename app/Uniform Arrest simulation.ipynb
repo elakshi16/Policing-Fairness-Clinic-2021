{
 "cells": [
  {
   "cell_type": "code",
   "execution_count": 1,
   "id": "1ba479fb",
   "metadata": {},
   "outputs": [],
   "source": [
    "import graph\n",
    "import random\n",
    "import patrols\n",
    "import pickle\n",
    "import plotter\n",
    "import stats\n",
    "\n",
    "g = graph.Graph()\n",
    "g.loadGraph(\"./out/saved_graph_races.pkl\")\n",
    "# g.loadGraph(\"./out/saved_graph.pkl\")\n",
    "\n",
    "real_arrest_counts = {ids:len(nodes.pd_reports) for ids, nodes in g.nodes.items()}\n",
    "real_arrest_mean = stats.sim_mean(real_arrest_counts)\n",
    "plotter.imshow_plot(real_arrest_counts, \"./out/graphics/LAPD_arrest_count/\",\"All_LA\", \"LAPD Arrest Record Count\",real_arrest_mean, False, False)\n",
    "# plotter.final_plot(real_arrest_counts, False, \"./out/graphics/LAPD_arrest_count/\",\"All_LA\", \"LAPD Arrest Record Count\",real_arrest_mean, False, False)"
   ]
  },
  {
   "cell_type": "code",
   "execution_count": 2,
   "id": "58e93f66",
   "metadata": {},
   "outputs": [],
   "source": [
    "for pID in range(1,22):\n",
    "    p_arr_cnt = {ids:len(nodes.pd_reports) for ids, nodes in g.precincts[pID].items()}\n",
    "    p_arr_mean = stats.sim_mean(p_arr_cnt)\n",
    "    plotter.imshow_plot(p_arr_cnt, \"./out/graphics/LAPD_arrest_count/\", f\"Prec {pID}\", f\"LAPD Prec.{pID} Arrest Record Count\", p_arr_mean, False, False)\n",
    "#     plotter.final_plot(p_arr_cnt, True, \"./out/graphics/LAPD_arrest_count/\", f\"Prec {pID}\", f\"LAPD Prec.{pID} Arrest Record Count\", p_arr_mean, False, False)"
   ]
  },
  {
   "cell_type": "code",
   "execution_count": 3,
   "id": "d5c83151",
   "metadata": {},
   "outputs": [
    {
     "name": "stdout",
     "output_type": "stream",
     "text": [
      "Trial 9 complete\r"
     ]
    }
   ],
   "source": [
    "#run simulations on all of LA\n",
    "sim_list = []\n",
    "uniform_arrest_rate = {node:0.35 for node in g.nodes.keys()}\n",
    "\n",
    "for t in range(10):\n",
    "    # run 10 trials\n",
    "    all_nodes = {}\n",
    "\n",
    "    for pID in range(1,22):\n",
    "        while(True):\n",
    "            start = random.choice(list(g.precincts[pID].values()))\n",
    "            try:\n",
    "                path, arrests = patrols.random_walk_precinct(45000, g, start, uniform_arrest_rate)\n",
    "            except:\n",
    "                continue\n",
    "            else:\n",
    "                all_nodes.update(arrests)\n",
    "                break\n",
    "\n",
    "    sim_list.append(all_nodes)\n",
    "    print(f\"Trial {t} complete\", end=\"\\r\")"
   ]
  },
  {
   "cell_type": "code",
   "execution_count": 4,
   "id": "2f007f29",
   "metadata": {},
   "outputs": [],
   "source": [
    "mystore = stats.result(sim_list)\n",
    "mean_arr_cnt = {ids: n['mean'] for ids, n in mystore.items()}\n",
    "\n",
    "ans, (c1,c2,c3) = stats.compare_sims(mystore, real_arrest_counts)\n",
    "\n",
    "conf_nodes = {ids:sum(tup) for ids, tup in ans.items()}\n",
    "\n",
    "plotter.imshow_plot(mean_arr_cnt, \"./out/graphics/Uniform_Simulation/\",\"All_LA\", \"Simulated Arrest Count\",stats.sim_mean(mean_arr_cnt), False, stats.similarity_score(mystore, real_arrest_counts))\n"
   ]
  },
  {
   "cell_type": "code",
   "execution_count": 5,
   "id": "16525d9d",
   "metadata": {},
   "outputs": [],
   "source": [
    "for pID in range(1,22):\n",
    "    \n",
    "    real_arrest_counts = {ids:len(nodes.pd_reports) for ids, nodes in g.precincts[pID].items()}\n",
    "\n",
    "    p_arr_cnt = {ids:mean_arr_cnt[ids] for ids, n in g.precincts[pID].items()}\n",
    "    p_arr_mean = stats.sim_mean(p_arr_cnt)\n",
    "    \n",
    "    plotter.imshow_plot(p_arr_cnt, \"./out/graphics/Uniform_Simulation/\", f\"Prec {pID}\", f\"Prec.{pID} Simulated Arrest Count\", p_arr_mean, False, stats.similarity_score)\n",
    "#   "
   ]
  },
  {
   "cell_type": "code",
   "execution_count": 1,
   "id": "b2aeec0f",
   "metadata": {},
   "outputs": [],
   "source": []
  },
  {
   "cell_type": "code",
   "execution_count": null,
   "id": "d3ed1f24",
   "metadata": {},
   "outputs": [],
   "source": [
    "ans, (c85,c95,c99) = stats.compare_sims(mystore, real_arrest_counts)\n",
    "print(f\"nodes with 85 confidence: {c85} \\nnodes with 95 confidence: {c95} \\nnodes with 99 confidence: {c99}\")\n",
    "\n",
    "print()\n",
    "\n",
    "print(stats.compare_means(mystore, real_arrest_counts))\n",
    "for i in range(10):\n",
    "    print(f\"Mean of sim #{i} is {stats.sim_mean(sim_list[i])}\")\n",
    "print(f\"Mean of real arrests is {stats.sim_mean(real_arrest_counts)}\")"
   ]
  },
  {
   "cell_type": "code",
   "execution_count": null,
   "id": "3e01751a",
   "metadata": {},
   "outputs": [],
   "source": [
    "out_nodes = {node_id:(sum(tup)//3) for node_id, tup in ans.items()}\n",
    "\n",
    "plotter.basic_plot(out_nodes)"
   ]
  },
  {
   "cell_type": "code",
   "execution_count": null,
   "id": "26e7a188",
   "metadata": {},
   "outputs": [],
   "source": []
  },
  {
   "cell_type": "code",
   "execution_count": null,
   "id": "f084fb61",
   "metadata": {},
   "outputs": [],
   "source": [
    "similarity = stats.similarity_score(mystore, real_arrest_counts)\n",
    "print(similarity)"
   ]
  },
  {
   "cell_type": "code",
   "execution_count": null,
   "id": "707395f0",
   "metadata": {},
   "outputs": [],
   "source": []
  }
 ],
 "metadata": {
  "kernelspec": {
   "display_name": "Python 3 (ipykernel)",
   "language": "python",
   "name": "python3"
  },
  "language_info": {
   "codemirror_mode": {
    "name": "ipython",
    "version": 3
   },
   "file_extension": ".py",
   "mimetype": "text/x-python",
   "name": "python",
   "nbconvert_exporter": "python",
   "pygments_lexer": "ipython3",
   "version": "3.8.13"
  }
 },
 "nbformat": 4,
 "nbformat_minor": 5
}
