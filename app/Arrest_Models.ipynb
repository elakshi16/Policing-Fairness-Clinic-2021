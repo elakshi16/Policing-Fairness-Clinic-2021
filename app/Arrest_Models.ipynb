{
 "cells": [
  {
   "cell_type": "code",
   "execution_count": null,
   "id": "8ee87fb1",
   "metadata": {},
   "outputs": [],
   "source": [
    "import random\n",
    "\n",
    "import graph"
   ]
  },
  {
   "cell_type": "markdown",
   "id": "a44150f1",
   "metadata": {},
   "source": [
    "Population Based Arrests"
   ]
  },
  {
   "cell_type": "code",
   "execution_count": null,
   "id": "86f3fbef",
   "metadata": {},
   "outputs": [],
   "source": [
    "# Find arrest numbers per capita based on data\n",
    "\n",
    "totalArrest = 0\n",
    "totalPop = 0 \n",
    "\n",
    "for node in graph:\n",
    "    totalArrest += node.pd_reports\n",
    "    totalPop += node.population\n",
    "    \n",
    "perCapita = totalArrest/totalPop\n",
    "\n",
    "print(perCapita)"
   ]
  },
  {
   "cell_type": "code",
   "execution_count": null,
   "id": "371d6662",
   "metadata": {},
   "outputs": [],
   "source": []
  }
 ],
 "metadata": {
  "kernelspec": {
   "display_name": "Python 3 (ipykernel)",
   "language": "python",
   "name": "python3"
  },
  "language_info": {
   "codemirror_mode": {
    "name": "ipython",
    "version": 3
   },
   "file_extension": ".py",
   "mimetype": "text/x-python",
   "name": "python",
   "nbconvert_exporter": "python",
   "pygments_lexer": "ipython3",
   "version": "3.8.13"
  }
 },
 "nbformat": 4,
 "nbformat_minor": 5
}
